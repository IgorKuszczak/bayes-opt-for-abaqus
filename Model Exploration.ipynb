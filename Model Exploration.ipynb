{
 "cells": [
  {
   "cell_type": "code",
   "execution_count": 13,
   "id": "b2ca1d5e",
   "metadata": {},
   "outputs": [],
   "source": [
    "import ax\n",
    "from ax.modelbridge.generation_strategy import GenerationStep, GenerationStrategy\n",
    "from ax.modelbridge.registry import Models"
   ]
  },
  {
   "cell_type": "code",
   "execution_count": 14,
   "id": "6bed4293",
   "metadata": {},
   "outputs": [],
   "source": [
    "model = ax.modelbridge.registry.Models('MOO')"
   ]
  },
  {
   "cell_type": "code",
   "execution_count": 19,
   "id": "9bb68204",
   "metadata": {},
   "outputs": [],
   "source": [
    " gs = GenerationStrategy(steps=\n",
    "                            [GenerationStep(model=Models.SOBOL, num_trials=6),\n",
    "                             GenerationStep(model=Models['MOO'], num_trials=-1)])"
   ]
  },
  {
   "cell_type": "code",
   "execution_count": 21,
   "id": "455a361d",
   "metadata": {},
   "outputs": [],
   "source": [
    "moo_step = GenerationStep(model=Models['MOO'], num_trials=10)"
   ]
  },
  {
   "cell_type": "code",
   "execution_count": 30,
   "id": "1c2493e1",
   "metadata": {},
   "outputs": [],
   "source": [
    "from typing import Any, Dict, Optional, Tuple, Type\n",
    "\n",
    "# Ax wrappers for BoTorch components\n",
    "from ax.models.torch.botorch_modular.model import BoTorchModel\n",
    "from ax.models.torch.botorch_modular.surrogate import Surrogate\n",
    "from ax.models.torch.botorch_modular.list_surrogate import ListSurrogate\n",
    "from ax.models.torch.botorch_modular.acquisition import Acquisition\n",
    "\n",
    "# Ax data tranformation layer\n",
    "from ax.modelbridge.torch import TorchModelBridge\n",
    "from ax.modelbridge.registry import Cont_X_trans, Y_trans, Models\n",
    "\n",
    "# Experiment examination utilities\n",
    "from ax.service.utils.report_utils import exp_to_df\n",
    "\n",
    "# Test Ax objects\n",
    "from ax.utils.testing.core_stubs import (\n",
    "    get_branin_experiment, \n",
    "    get_branin_data, \n",
    "    get_branin_experiment_with_multi_objective,\n",
    "    get_branin_data_multi_objective,\n",
    ")\n",
    "\n",
    "# BoTorch components\n",
    "from botorch.models.model import Model\n",
    "from botorch.models.gp_regression import FixedNoiseGP, SingleTaskGP\n",
    "from botorch.acquisition.monte_carlo import qExpectedImprovement, qNoisyExpectedImprovement\n",
    "from gpytorch.mlls.exact_marginal_log_likelihood import ExactMarginalLogLikelihood"
   ]
  },
  {
   "cell_type": "code",
   "execution_count": 31,
   "id": "31ddf0ef",
   "metadata": {},
   "outputs": [
    {
     "name": "stderr",
     "output_type": "stream",
     "text": [
      "[INFO 01-11 14:46:22] ax.core.experiment: The is_test flag has been set to True. This flag is meant purely for development and integration testing purposes. If you are running a live experiment, please set this flag to False\n"
     ]
    }
   ],
   "source": [
    "experiment = get_branin_experiment(with_trial=True)\n",
    "data = get_branin_data(trials=[experiment.trials[0]])"
   ]
  },
  {
   "cell_type": "code",
   "execution_count": 34,
   "id": "8bec3c55",
   "metadata": {},
   "outputs": [
    {
     "name": "stderr",
     "output_type": "stream",
     "text": [
      "[INFO 01-11 14:48:16] ax.core.experiment: The is_test flag has been set to True. This flag is meant purely for development and integration testing purposes. If you are running a live experiment, please set this flag to False\n",
      "[INFO 01-11 14:48:16] ax.modelbridge.transforms.standardize_y: Outcome branin_a is constant, within tolerance.\n",
      "[INFO 01-11 14:48:16] ax.modelbridge.transforms.standardize_y: Outcome branin_b is constant, within tolerance.\n"
     ]
    }
   ],
   "source": [
    "default_model_bridge = Models.MOO(experiment=get_branin_experiment_with_multi_objective(has_objective_thresholds=True, with_batch=True),\n",
    "    data=get_branin_data_multi_objective(),\n",
    ")"
   ]
  },
  {
   "cell_type": "code",
   "execution_count": 53,
   "id": "f210149c",
   "metadata": {},
   "outputs": [
    {
     "data": {
      "text/plain": [
       "<function ax.models.torch.botorch_moo_defaults.get_NEHVI(model: botorch.models.model.Model, objective_weights: torch.Tensor, objective_thresholds: torch.Tensor, outcome_constraints: Union[Tuple[torch.Tensor, torch.Tensor], NoneType] = None, X_observed: Union[torch.Tensor, NoneType] = None, X_pending: Union[torch.Tensor, NoneType] = None, **kwargs: Any) -> botorch.acquisition.acquisition.AcquisitionFunction>"
      ]
     },
     "execution_count": 53,
     "metadata": {},
     "output_type": "execute_result"
    }
   ],
   "source": [
    "model_MOO.model.acqf_constructor"
   ]
  },
  {
   "cell_type": "code",
   "execution_count": 54,
   "id": "55b63ea4",
   "metadata": {},
   "outputs": [
    {
     "name": "stderr",
     "output_type": "stream",
     "text": [
      "[INFO 01-11 15:04:02] ax.core.experiment: The is_test flag has been set to True. This flag is meant purely for development and integration testing purposes. If you are running a live experiment, please set this flag to False\n",
      "[INFO 01-11 15:04:02] ax.modelbridge.transforms.standardize_y: Outcome branin_a is constant, within tolerance.\n",
      "[INFO 01-11 15:04:02] ax.modelbridge.transforms.standardize_y: Outcome branin_b is constant, within tolerance.\n"
     ]
    }
   ],
   "source": [
    "model_bridge_with_EHVI = Models.MOO_MODULAR(\n",
    "    experiment=get_branin_experiment_with_multi_objective(has_objective_thresholds=True, with_batch=True),\n",
    "    data=get_branin_data_multi_objective(),\n",
    ")"
   ]
  },
  {
   "cell_type": "code",
   "execution_count": 51,
   "id": "61ca4aad",
   "metadata": {},
   "outputs": [
    {
     "data": {
      "text/plain": [
       "botorch.acquisition.multi_objective.monte_carlo.qNoisyExpectedHypervolumeImprovement"
      ]
     },
     "execution_count": 51,
     "metadata": {},
     "output_type": "execute_result"
    }
   ],
   "source": [
    "model_bridge_with_EHVI.gen(1)\n",
    "model_bridge_with_EHVI.model.botorch_acqf_class"
   ]
  },
  {
   "cell_type": "code",
   "execution_count": null,
   "id": "79ec5940",
   "metadata": {},
   "outputs": [],
   "source": []
  }
 ],
 "metadata": {
  "kernelspec": {
   "display_name": "Python [conda env:bayes-opt-for-ntop] *",
   "language": "python",
   "name": "conda-env-bayes-opt-for-ntop-py"
  },
  "language_info": {
   "codemirror_mode": {
    "name": "ipython",
    "version": 3
   },
   "file_extension": ".py",
   "mimetype": "text/x-python",
   "name": "python",
   "nbconvert_exporter": "python",
   "pygments_lexer": "ipython3",
   "version": "3.7.11"
  }
 },
 "nbformat": 4,
 "nbformat_minor": 5
}
